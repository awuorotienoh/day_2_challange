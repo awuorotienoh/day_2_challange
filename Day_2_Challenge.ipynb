{
  "nbformat": 4,
  "nbformat_minor": 0,
  "metadata": {
    "colab": {
      "provenance": []
    },
    "kernelspec": {
      "name": "python3",
      "display_name": "Python 3"
    },
    "language_info": {
      "name": "python"
    }
  },
  "cells": [
    {
      "cell_type": "code",
      "execution_count": 1,
      "metadata": {
        "id": "2fGLCWolOlKa"
      },
      "outputs": [],
      "source": [
        "%load_ext sql"
      ]
    },
    {
      "cell_type": "code",
      "source": [
        "%sql sqlite:///abc_data.db"
      ],
      "metadata": {
        "id": "X62ee1kCEQ_1"
      },
      "execution_count": 2,
      "outputs": []
    },
    {
      "cell_type": "code",
      "source": [
        " %%sql CREATE TABLE students (\n",
        "            student_id integer PRIMARY KEY,\n",
        "            student_first_name varchar(100),\n",
        "            student_last_name varchar(100),\n",
        "            student_email varchar(100)\n",
        "         );\n"
      ],
      "metadata": {
        "colab": {
          "base_uri": "https://localhost:8080/"
        },
        "id": "vLTYfmn3EYrK",
        "outputId": "8cb3eecd-f2db-4a5d-ad8e-a42f2cda3e20"
      },
      "execution_count": 5,
      "outputs": [
        {
          "output_type": "stream",
          "name": "stdout",
          "text": [
            " * sqlite:///abc_data.db\n",
            "Done.\n"
          ]
        },
        {
          "output_type": "execute_result",
          "data": {
            "text/plain": [
              "[]"
            ]
          },
          "metadata": {},
          "execution_count": 5
        }
      ]
    },
    {
      "cell_type": "code",
      "source": [
        "%%sql CREATE TABLE customers(\n",
        "    customer_id integer PRIMARY KEY,\n",
        "    first_name varchar (100),\n",
        "    last_name varchar (100),\n",
        "    email varchar (100)\n",
        "    );\n",
        ""
      ],
      "metadata": {
        "colab": {
          "base_uri": "https://localhost:8080/"
        },
        "id": "mgs0hsKxEfQ-",
        "outputId": "61bf6c8f-62ef-4438-c213-3562bf3a9e08"
      },
      "execution_count": 8,
      "outputs": [
        {
          "output_type": "stream",
          "name": "stdout",
          "text": [
            " * sqlite:///abc_data.db\n",
            "Done.\n"
          ]
        },
        {
          "output_type": "execute_result",
          "data": {
            "text/plain": [
              "[]"
            ]
          },
          "metadata": {},
          "execution_count": 8
        }
      ]
    },
    {
      "cell_type": "code",
      "source": [
        "%%sql INSERT INTO customers (customer_id, first_name, last_name, email) VALUES\n",
        "        (1, 'John', 'Doe', 'johndoe@email.com'),\n",
        "        (2, 'Jane', 'Smith', 'janesmith@email.com'),\n",
        "        (3, 'Bob', 'Johnson', 'bobjohnson@email.com'),\n",
        "        (4, 'Alice', 'Brown', 'alicebrown@email.com'),\n",
        "        (5, 'Charlie', 'Davis', 'charliedavis@email.com'),\n",
        "        (6, 'Eva', 'Fisher', 'evafisher@email.com'),\n",
        "        (7, 'George', 'Harris', 'georgeharris@email.com'),\n",
        "        (8, 'Ivy', 'Jones', 'ivyjones@email.com'),\n",
        "        (9, 'Kevin', 'Miller', 'kevinmiller@email.com'),\n",
        "        (10, 'Lily', 'Nelson', 'lilynelson@email.com'),\n",
        "        (11, 'Oliver', 'Patterson', 'oliverpatterson@email.com'),\n",
        "        (12, 'Quinn', 'Roberts', 'quinnroberts@email.com'),\n",
        "        (13, 'Sophia', 'Thomas', 'sophiathomas@email.com');"
      ],
      "metadata": {
        "colab": {
          "base_uri": "https://localhost:8080/"
        },
        "id": "5crchigKF3hN",
        "outputId": "3f5c4167-fb04-41b5-f1af-98f47b47fb38"
      },
      "execution_count": 9,
      "outputs": [
        {
          "output_type": "stream",
          "name": "stdout",
          "text": [
            " * sqlite:///abc_data.db\n",
            "13 rows affected.\n"
          ]
        },
        {
          "output_type": "execute_result",
          "data": {
            "text/plain": [
              "[]"
            ]
          },
          "metadata": {},
          "execution_count": 9
        }
      ]
    },
    {
      "cell_type": "code",
      "source": [
        "%%sql CREATE TABLE products(\n",
        "    product_id integer PRIMARY KEY,\n",
        "    product_name varchar (100),\n",
        "    price integer (100)\n",
        "    );"
      ],
      "metadata": {
        "colab": {
          "base_uri": "https://localhost:8080/"
        },
        "id": "ClW-pFtAGONs",
        "outputId": "f683ef49-85c5-45fd-89d7-dbe9bd1c6892"
      },
      "execution_count": 13,
      "outputs": [
        {
          "output_type": "stream",
          "name": "stdout",
          "text": [
            " * sqlite:///abc_data.db\n",
            "Done.\n"
          ]
        },
        {
          "output_type": "execute_result",
          "data": {
            "text/plain": [
              "[]"
            ]
          },
          "metadata": {},
          "execution_count": 13
        }
      ]
    },
    {
      "cell_type": "code",
      "source": [
        "%%sql INSERT INTO products (product_id, product_name, price) VALUES\n",
        "        (1, 'Product A', 10.00),\n",
        "        (2, 'Product B', 15.00),\n",
        "        (3, 'Product C', 20.00),\n",
        "        (4, 'Product D', 25.00),\n",
        "        (5, 'Product E', 30.00),\n",
        "        (6, 'Product F', 35.00),\n",
        "        (7, 'Product G', 40.00),\n",
        "        (8, 'Product H', 45.00),\n",
        "        (9, 'Product I', 50.00),\n",
        "        (10, 'Product J', 55.00),\n",
        "        (11, 'Product K', 60.00),\n",
        "        (12, 'Product L', 65.00),\n",
        "        (13, 'Product M', 70.00);\n"
      ],
      "metadata": {
        "colab": {
          "base_uri": "https://localhost:8080/"
        },
        "id": "0JUBAArpGW0f",
        "outputId": "d3eeeccf-19be-4318-fca0-97dbae4208df"
      },
      "execution_count": 14,
      "outputs": [
        {
          "output_type": "stream",
          "name": "stdout",
          "text": [
            " * sqlite:///abc_data.db\n",
            "13 rows affected.\n"
          ]
        },
        {
          "output_type": "execute_result",
          "data": {
            "text/plain": [
              "[]"
            ]
          },
          "metadata": {},
          "execution_count": 14
        }
      ]
    },
    {
      "cell_type": "code",
      "source": [
        "%%sql CREATE TABLE orders(\n",
        "  order_id integer (100),\n",
        "  customer_id integer (100),\n",
        "  order_date integer (100)\n",
        ");\n"
      ],
      "metadata": {
        "colab": {
          "base_uri": "https://localhost:8080/"
        },
        "id": "J-KPnd5VG_gs",
        "outputId": "33a28568-9f48-40ee-b299-673600bfc0fe"
      },
      "execution_count": 15,
      "outputs": [
        {
          "output_type": "stream",
          "name": "stdout",
          "text": [
            " * sqlite:///abc_data.db\n",
            "Done.\n"
          ]
        },
        {
          "output_type": "execute_result",
          "data": {
            "text/plain": [
              "[]"
            ]
          },
          "metadata": {},
          "execution_count": 15
        }
      ]
    },
    {
      "cell_type": "code",
      "source": [
        "%%sql INSERT INTO orders (order_id, customer_id, order_date) VALUES\n",
        "        (1, 1, '2023-05-01'),\n",
        "        (2, 2, '2023-05-02'),\n",
        "        (3, 3, '2023-05-03'),\n",
        "        (4, 1, '2023-05-04'),\n",
        "        (5, 2, '2023-05-05'),\n",
        "        (6, 3, '2023-05-06'),\n",
        "        (7, 4, '2023-05-07'),\n",
        "        (8, 5, '2023-05-08'),\n",
        "        (9, 6, '2023-05-09'),\n",
        "        (10, 7, '2023-05-10'),\n",
        "        (11, 8, '2023-05-11'),\n",
        "        (12, 9, '2023-05-12'),\n",
        "        (13, 10, '2023-05-13'),\n",
        "        (14, 11, '2023-05-14'),\n",
        "        (15, 12, '2023-05-15'),\n",
        "        (16, 13, '2023-05-16');"
      ],
      "metadata": {
        "colab": {
          "base_uri": "https://localhost:8080/"
        },
        "id": "Y_kW4yZAHIWK",
        "outputId": "bd3046dd-fbb9-480a-f6c8-4c30d0a322c2"
      },
      "execution_count": 16,
      "outputs": [
        {
          "output_type": "stream",
          "name": "stdout",
          "text": [
            " * sqlite:///abc_data.db\n",
            "16 rows affected.\n"
          ]
        },
        {
          "output_type": "execute_result",
          "data": {
            "text/plain": [
              "[]"
            ]
          },
          "metadata": {},
          "execution_count": 16
        }
      ]
    },
    {
      "cell_type": "code",
      "source": [
        "%%sql CREATE TABLE order_items(\n",
        "    order_id integerPRIMARY KEY,\n",
        "   product_id integer(30),\n",
        "    quantity integer(20)\n",
        ");"
      ],
      "metadata": {
        "colab": {
          "base_uri": "https://localhost:8080/"
        },
        "id": "1nc0m6YbH2O1",
        "outputId": "984ed8c8-7bf7-48ac-d6f7-28a315f3cbe1"
      },
      "execution_count": 19,
      "outputs": [
        {
          "output_type": "stream",
          "name": "stdout",
          "text": [
            " * sqlite:///abc_data.db\n",
            "Done.\n"
          ]
        },
        {
          "output_type": "execute_result",
          "data": {
            "text/plain": [
              "[]"
            ]
          },
          "metadata": {},
          "execution_count": 19
        }
      ]
    },
    {
      "cell_type": "code",
      "source": [
        "%%sql INSERT INTO order_items (order_id, product_id, quantity) VALUES\n",
        "        (1, 1, 2),\n",
        "        (1, 2, 1),\n",
        "        (2, 2, 1),\n",
        "        (2, 3, 3),\n",
        "        (3, 1, 1),\n",
        "        (3, 3, 2),\n",
        "        (4, 2, 4),\n",
        "        (4, 3, 1),\n",
        "        (5, 1, 1),\n",
        "        (5, 3, 2),\n",
        "        (6, 2, 3),\n",
        "        (6, 1, 1),\n",
        "        (7, 4, 1),\n",
        "        (7, 5, 2),\n",
        "        (8, 6, 3),\n",
        "        (8, 7, 1),\n",
        "        (9, 8, 2),\n",
        "        (9, 9, 1),\n",
        "        (10, 10, 3),\n",
        "        (10, 11, 2),\n",
        "        (11, 12, 1),\n",
        "        (11, 13, 3),\n",
        "        (12, 4, 2),\n",
        "        (12, 5, 1),\n",
        "        (13, 6, 3),\n",
        "        (13, 7, 2),\n",
        "        (14, 8, 1),\n",
        "        (14, 9, 2),\n",
        "        (15, 10, 3),\n",
        "        (15, 11, 1),\n",
        "        (16, 12, 2),\n",
        "        (16, 13, 3);"
      ],
      "metadata": {
        "colab": {
          "base_uri": "https://localhost:8080/"
        },
        "id": "CUZMfCo4H7QV",
        "outputId": "3e95d2da-7eaa-4a63-d65a-bbd187ae391b"
      },
      "execution_count": 20,
      "outputs": [
        {
          "output_type": "stream",
          "name": "stdout",
          "text": [
            " * sqlite:///abc_data.db\n",
            "32 rows affected.\n"
          ]
        },
        {
          "output_type": "execute_result",
          "data": {
            "text/plain": [
              "[]"
            ]
          },
          "metadata": {},
          "execution_count": 20
        }
      ]
    },
    {
      "cell_type": "markdown",
      "source": [
        "# New Section"
      ],
      "metadata": {
        "id": "OAoV65nHnz15"
      }
    }
  ]
}